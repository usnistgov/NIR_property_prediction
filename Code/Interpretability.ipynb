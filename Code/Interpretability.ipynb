{
 "cells": [
  {
   "cell_type": "markdown",
   "id": "570c0beb-a344-4825-8d8a-a5619f9afa23",
   "metadata": {},
   "source": [
    "# Interpretibility\n",
    "\n",
    "Indentifies important wavenumbers for density, crystallinity and SCB prediction, performs SHAP visualization, and looks at correlations between intensities at different wavenumbers"
   ]
  },
  {
   "cell_type": "markdown",
   "id": "b6c19788-175f-4b38-ba37-5c9c94e780d4",
   "metadata": {},
   "source": [
    "# Dependencies"
   ]
  },
  {
   "cell_type": "code",
   "execution_count": null,
   "id": "34007f4c-faa8-43a3-b8de-43cd5b0302b1",
   "metadata": {},
   "outputs": [],
   "source": [
    "import os\n",
    "import glob\n",
    "import numpy as np\n",
    "from numpy.dtypes import StringDType\n",
    "from sklearn import linear_model\n",
    "from sklearn.preprocessing import StandardScaler\n",
    "import shap\n",
    "import matplotlib.pyplot as plt\n",
    "from sklearn.linear_model import LinearRegression\n",
    "import pandas as pd\n",
    "import itertools\n",
    "from sklearn.model_selection import train_test_split\n",
    "import scipy\n",
    "import copy\n",
    "from scipy.stats import pearsonr"
   ]
  },
  {
   "cell_type": "markdown",
   "id": "aa2b06ce-cc32-46d0-9d8f-868c0a3f1e0c",
   "metadata": {},
   "source": [
    "# Functions"
   ]
  },
  {
   "cell_type": "markdown",
   "id": "724c8cdc",
   "metadata": {},
   "source": [
    "## Get data"
   ]
  },
  {
   "cell_type": "code",
   "execution_count": null,
   "id": "fb4309db-c6b2-40b6-a321-5cc484d99abb",
   "metadata": {},
   "outputs": [],
   "source": [
    "def getdata(foldername, fold_idx=0, base_path=\"../ModelData\"):\n",
    "\n",
    "    folder_path = os.path.join(base_path, foldername)\n",
    "\n",
    "    wavexTrain = np.loadtxt(\n",
    "        os.path.join(folder_path, \"X_train_\" + str(fold_idx) + \".csv\"), delimiter=\",\"\n",
    "    )\n",
    "    wavecoeffsTrain = np.loadtxt(\n",
    "        os.path.join(folder_path, \"PLSR_coef_\" + str(fold_idx) + \".csv\"), delimiter=\",\"\n",
    "    )\n",
    "    ypredTrain = np.loadtxt(\n",
    "        os.path.join(folder_path, \"ypred_PLSR_train_\" + str(fold_idx) + \".csv\"),\n",
    "        delimiter=\",\",\n",
    "    )\n",
    "    yactTrain = np.loadtxt(\n",
    "        os.path.join(folder_path, \"y_train_\" + str(fold_idx) + \".csv\"), delimiter=\",\"\n",
    "    )\n",
    "    interceptTrain = np.loadtxt(\n",
    "        os.path.join(folder_path, \"PLSR_intercept_\" + str(fold_idx) + \".csv\"),\n",
    "        delimiter=\",\",\n",
    "    )\n",
    "\n",
    "    wavexTest = np.loadtxt(\n",
    "        os.path.join(folder_path, \"X_test_\" + str(fold_idx) + \".csv\"), delimiter=\",\"\n",
    "    )\n",
    "    ypredTest = np.loadtxt(\n",
    "        os.path.join(folder_path, \"ypred_PLSR_test_\" + str(fold_idx) + \".csv\"),\n",
    "        delimiter=\",\",\n",
    "    )\n",
    "    yactTest = np.loadtxt(\n",
    "        os.path.join(folder_path, \"y_test_\" + str(fold_idx) + \".csv\"), delimiter=\",\"\n",
    "    )\n",
    "\n",
    "    # scale the data\n",
    "    scaler = StandardScaler()\n",
    "    wavexTrain_scaled = scaler.fit_transform(wavexTrain)\n",
    "    wavexTest_scaled = scaler.transform(wavexTest)\n",
    "\n",
    "    return (\n",
    "        wavexTrain_scaled,\n",
    "        wavecoeffsTrain,\n",
    "        ypredTrain,\n",
    "        yactTrain,\n",
    "        interceptTrain,\n",
    "        wavexTest_scaled,\n",
    "        ypredTest,\n",
    "        yactTest,\n",
    "    )"
   ]
  },
  {
   "cell_type": "code",
   "execution_count": null,
   "id": "8fe5be22-2f07-498e-a952-d0b7a0fedc58",
   "metadata": {},
   "outputs": [],
   "source": [
    "def load_preprocessed_spectra():\n",
    "    \"\"\"\n",
    "    Load RNV preprocessed spectral data and sample information.\n",
    "    \"\"\"\n",
    "    base_path = \"../ModelData/\"\n",
    "    data = {\n",
    "        \"wavenumbers\": np.loadtxt(f\"{base_path}RNV_wavenumbers.csv\", delimiter=\",\"),\n",
    "        \"intensities\": np.loadtxt(f\"{base_path}RNV_intensities.csv\", delimiter=\",\"),\n",
    "        \"samples\": np.loadtxt(\n",
    "            f\"{base_path}samples.txt\", delimiter=\",\", dtype=str\n",
    "        ).tolist(),\n",
    "        \"labels\": np.loadtxt(\n",
    "            f\"{base_path}labels.txt\", delimiter=\",\", dtype=str\n",
    "        ).tolist(),\n",
    "        \"numlabels\": np.loadtxt(f\"{base_path}numlabels.csv\", delimiter=\",\", dtype=int),\n",
    "    }\n",
    "\n",
    "    with open(f\"{base_path}RNV_column_names.txt\", \"r\") as f:\n",
    "        data[\"column_names\"] = [line.strip() for line in f]\n",
    "\n",
    "    # Ensure correct shape: samples should be in columns, not rows\n",
    "    if data[\"intensities\"].shape[0] == len(data[\"samples\"]):\n",
    "        data[\"intensities\"] = data[\"intensities\"].T\n",
    "\n",
    "    return data"
   ]
  },
  {
   "cell_type": "markdown",
   "id": "bfac7b44-49fa-4e99-b140-ca6fbb73df1d",
   "metadata": {},
   "source": [
    "## Feature Selection: Use LASSO to reduce the number of candidates to a reasonable number"
   ]
  },
  {
   "cell_type": "code",
   "execution_count": null,
   "id": "6cae66bd-b36f-4ccb-ae2a-dd89e27e8a0b",
   "metadata": {},
   "outputs": [],
   "source": [
    "def reducecandidates(initnum, wavex, wavecoeffs, ypred, alphamin, alphamax):\n",
    "    \"\"\"Run LASSO to get a minimum number of candidates.\"\"\"\n",
    "\n",
    "    numcoefflist = []\n",
    "    rmselist = []\n",
    "    rmselist2 = []\n",
    "    allalpha = np.logspace(alphamin, alphamax, num=24)\n",
    "    numcoeffbest = len(wavex[0, :])\n",
    "    important_try = []\n",
    "\n",
    "    print(\"log(alpha) numcoeff numcoeffbest initnum\")\n",
    "\n",
    "    for alpha in allalpha:\n",
    "\n",
    "        clf = linear_model.Lasso(alpha=alpha, max_iter=40000)\n",
    "\n",
    "        # run LASSO\n",
    "        clf.fit(wavex, ypred)\n",
    "        np.set_printoptions(suppress=True)\n",
    "        numcoeff = int(np.sum(np.abs(clf.coef_) > 1e-10))\n",
    "        numcoefflist.append(numcoeff)\n",
    "\n",
    "        # compute RMSE for LASSO\n",
    "        yimportant = clf.predict(wavex)\n",
    "        rmse = np.sqrt(np.mean((yimportant - ypred) ** 2))\n",
    "        rmselist.append(rmse)\n",
    "\n",
    "        # refit a linear model keeping only non-zero LASSO coefficents\n",
    "        important_guess = np.arange(len(wavex[0, :]))[(np.abs(clf.coef_) > 1e-10)]\n",
    "        model = linear_model.LinearRegression()\n",
    "        model.fit(wavex[:, np.array(important_guess).astype(int)], ypred)\n",
    "\n",
    "        # compute RMSE for refit model\n",
    "        yimportant2 = model.predict(wavex[:, np.array(important_guess).astype(int)])\n",
    "        rmse2 = np.sqrt(np.mean((yimportant2 - ypred) ** 2))\n",
    "        rmselist2.append(rmse2)\n",
    "\n",
    "        print(np.log10(alpha), numcoeff, numcoeffbest, initnum)\n",
    "\n",
    "        if numcoeff < numcoeffbest and numcoeff > initnum:\n",
    "            important_try = np.arange(len(wavex[0, :]))[(np.abs(clf.coef_) > 1e-10)]\n",
    "            numcoeffbest = numcoeff\n",
    "\n",
    "    fig, ax1 = plt.subplots()\n",
    "    ax2 = ax1.twinx()\n",
    "\n",
    "    ax1.set_xlabel(\"log(alpha)\")\n",
    "    ax1.plot(np.log10(allalpha), rmselist, \"o\", label=\"RMSE LASSO\")\n",
    "    ax1.plot(np.log10(allalpha), rmselist2, \"s\", label=\"RMSE refit\")\n",
    "    ax1.set_ylabel(\"RMSE\")\n",
    "    ax2.plot(np.log10(allalpha), numcoefflist, \"rx\", label=\"No. coeffs.\")\n",
    "    ax2.set_ylabel(\"number of coeff\")\n",
    "\n",
    "    ax1.legend()\n",
    "    ax2.legend()\n",
    "    plt.show()\n",
    "\n",
    "    return important_try"
   ]
  },
  {
   "cell_type": "markdown",
   "id": "1f603fbc-f7ee-48e3-b522-85d619ca1f62",
   "metadata": {},
   "source": [
    "## Brute Force Selection: Eliminate variables"
   ]
  },
  {
   "cell_type": "code",
   "execution_count": null,
   "id": "d08a32d2-8eee-4327-9e5f-7dd31e62d964",
   "metadata": {},
   "outputs": [],
   "source": [
    "def eliminate_variables(startnum, finnum, important_try, wavex, ypred, tol):\n",
    "    \"\"\"Brute froce try all variable combinations.\"\"\"\n",
    "\n",
    "    important_trim = np.copy(important_try)\n",
    "\n",
    "    rmselist = []\n",
    "    keeplist = []\n",
    "\n",
    "    for j in np.arange(startnum, finnum + 1):\n",
    "\n",
    "        bestrmse = np.inf\n",
    "        keep = np.array([])\n",
    "\n",
    "        for i in itertools.combinations(important_try, j):\n",
    "\n",
    "            test = np.array(i)\n",
    "\n",
    "            model = linear_model.LinearRegression()\n",
    "            model.fit(wavex[:, test.astype(int)], ypred)\n",
    "\n",
    "            important_coeff = model.coef_\n",
    "            important_intercept = model.intercept_\n",
    "\n",
    "            yimportant = model.predict(wavex[:, test.astype(int)])\n",
    "            rmse = np.sqrt(np.mean((yimportant - ypred) ** 2))\n",
    "\n",
    "            if rmse < bestrmse:\n",
    "                bestrmse = rmse\n",
    "                keep = test\n",
    "\n",
    "            if rmse < tol:\n",
    "                rmselist.append(rmse)\n",
    "                keeplist.append(test)\n",
    "\n",
    "        print(j, bestrmse, keep)\n",
    "\n",
    "        rmselist.append(bestrmse)\n",
    "        keeplist.append(keep)\n",
    "\n",
    "    return bestrmse, keep, rmselist, keeplist"
   ]
  },
  {
   "cell_type": "markdown",
   "id": "72a20140-03e9-4fcd-b09a-b3c6aef0bb6c",
   "metadata": {},
   "source": [
    "## Compute ratios of RMSE"
   ]
  },
  {
   "cell_type": "code",
   "execution_count": null,
   "id": "504df9e4-7655-407a-a9ab-07eb3930d928",
   "metadata": {},
   "outputs": [],
   "source": [
    "def getratios(rmselist):\n",
    "    \"\"\"Compute ratios of RMSE at increasing number of important wavenumbers.\"\"\"\n",
    "\n",
    "    ratio = rmselist[:-1]\n",
    "    for i in range(len(rmselist) - 1):\n",
    "        ratio[i] = ratio[i] / rmselist[i + 1]\n",
    "\n",
    "    return np.array(ratio)"
   ]
  },
  {
   "cell_type": "markdown",
   "id": "d5faae0f-4ffe-49b5-8fc4-7f7903575d3e",
   "metadata": {},
   "source": [
    "## Linear SHAP"
   ]
  },
  {
   "cell_type": "code",
   "execution_count": null,
   "id": "b1bf36c9-17f0-40f6-adff-ada0e4f0fcb0",
   "metadata": {},
   "outputs": [],
   "source": [
    "def linearshap(coeffs, intercept, x):\n",
    "    \"\"\"Compute SHAP values analytically for a linear equation.\"\"\"\n",
    "\n",
    "    # determine predictions\n",
    "    y = np.matmul(x, coeffs) + intercept\n",
    "\n",
    "    # determine mean\n",
    "    ymean = y.mean()\n",
    "\n",
    "    # compute shap\n",
    "    xx = np.transpose(np.transpose(x) - x.mean(axis=0).reshape(-1, 1))\n",
    "    shapvalues = np.multiply(coeffs, xx)\n",
    "\n",
    "    # base values\n",
    "    shapbase = y * 0 + ymean\n",
    "\n",
    "    shapex = shap.Explanation(values=shapvalues, base_values=shapbase, data=x)\n",
    "\n",
    "    return shapex"
   ]
  },
  {
   "cell_type": "markdown",
   "id": "0fdfe1b2-9d38-4716-8eac-ed6c1415b4ef",
   "metadata": {},
   "source": [
    "## SHAP reducer"
   ]
  },
  {
   "cell_type": "code",
   "execution_count": null,
   "id": "5d4b37d1-f046-4790-9d18-a3c1b0c682eb",
   "metadata": {},
   "outputs": [],
   "source": [
    "def SHAPreducer(fullcoeffs, intercept, reducedcoeffs, keep, wavex, wavenumbermapper):\n",
    "    \"\"\"Given the important wavenumbers (keep), all wavenumbers, coefficents for both cases, create SHAP values.\"\"\"\n",
    "\n",
    "    from numpy.dtypes import StringDType\n",
    "\n",
    "    # compute SHAP on everything\n",
    "    coeffs = np.concatenate((reducedcoeffs, -1 * reducedcoeffs, fullcoeffs))\n",
    "    data = np.concatenate(\n",
    "        (\n",
    "            wavex[:, np.array(keep).astype(int)],\n",
    "            wavex[:, np.array(keep).astype(int)],\n",
    "            wavex,\n",
    "        ),\n",
    "        axis=1,\n",
    "    )\n",
    "\n",
    "    shap_values = linearshap(coeffs, intercept, data)\n",
    "\n",
    "    # create a mapper array to link a wavenumber to which SHAP will be computed.\n",
    "    maxval = len(wavex[0])\n",
    "    mapper = np.zeros(maxval + len(keep)) + maxval\n",
    "    mapper = np.concatenate((keep, mapper.astype(int)))\n",
    "\n",
    "    mapperunique = np.unique(mapper)\n",
    "\n",
    "    # create the reduced SHAP\n",
    "    shap_values_short = copy.deepcopy(shap_values)\n",
    "\n",
    "    shap_values_short.values = np.zeros((len(wavex), len(mapperunique)))\n",
    "    shap_values_short.data = np.zeros(\n",
    "        (len(wavex), len(mapperunique))\n",
    "    )  # This is wrong, but we don't actually use it.\n",
    "\n",
    "    labels = np.array([\"\"] * len(mapperunique)).astype(StringDType())\n",
    "    labels[-1] = \"Everything else\"\n",
    "\n",
    "    for i, mapval in enumerate(mapper):\n",
    "\n",
    "        index = np.argwhere(mapperunique == mapval)[0][0]\n",
    "        # print(i, mapval, index)\n",
    "        shap_values_short.values[:, index] += shap_values.values[:, i]\n",
    "\n",
    "        if mapval < maxval:\n",
    "            labels[index] += str(wavenumbermapper[keep[i]]) + \" \"\n",
    "            if mapval == keep[i]:\n",
    "                shap_values_short.data[:, index] = shap_values.data[:, i]\n",
    "\n",
    "    return shap_values_short, labels"
   ]
  },
  {
   "cell_type": "markdown",
   "id": "a02a289e-3c1c-4f54-afff-7742ee3b63a4",
   "metadata": {},
   "source": [
    "## Correlation analysis"
   ]
  },
  {
   "cell_type": "code",
   "execution_count": null,
   "id": "7098bd92-e450-4578-a69e-f4e5401f08a3",
   "metadata": {},
   "outputs": [],
   "source": [
    "def compute_correlation(\n",
    "    important_indices,\n",
    "    property_name,\n",
    "    spectral_data,\n",
    "    polymer_filter=None,\n",
    "    split_by_polymer=False,\n",
    "):\n",
    "    \"\"\"\n",
    "    Compute correlations between important wavenumbers and all others.\n",
    "    \"\"\"\n",
    "    intensities = spectral_data[\"intensities\"]\n",
    "    wavenumbers = spectral_data[\"wavenumbers\"]\n",
    "    column_names = spectral_data[\"column_names\"]\n",
    "    samples = spectral_data[\"samples\"]\n",
    "    numlabels = spectral_data[\"numlabels\"]\n",
    "\n",
    "    # assign numeric labels to each replicate\n",
    "    replicate_labels = np.array(\n",
    "        [\n",
    "            numlabels[\n",
    "                next(i for i, sample in enumerate(samples) if col.startswith(sample))\n",
    "            ]\n",
    "            for col in column_names\n",
    "        ]\n",
    "    )\n",
    "\n",
    "    def compute_corr_df(subset, label_suffix=\"\"):\n",
    "        corr = np.corrcoef(subset, rowvar=False)\n",
    "        df = pd.DataFrame(index=wavenumbers)\n",
    "        for idx in important_indices:\n",
    "            w = int(wavenumbers[idx])\n",
    "            col_name = (\n",
    "                f\"{property_name}{label_suffix}corr_{w}\"\n",
    "                if label_suffix\n",
    "                else f\"Correlation_with_{w}\"\n",
    "            )\n",
    "            df[col_name] = corr[idx, :]\n",
    "        return df\n",
    "\n",
    "    if split_by_polymer:\n",
    "        polymer_groups = {\"PE\": [0, 1, 2], \"PP\": [3]}\n",
    "        return {\n",
    "            name: compute_corr_df(\n",
    "                intensities[np.isin(replicate_labels, ids)], f\"_{name}_\"\n",
    "            )\n",
    "            for name, ids in polymer_groups.items()\n",
    "        }\n",
    "    else:\n",
    "        if polymer_filter is not None:\n",
    "            intensities = intensities[np.isin(replicate_labels, polymer_filter)]\n",
    "        return compute_corr_df(intensities)"
   ]
  },
  {
   "cell_type": "markdown",
   "id": "ebd5a239-f497-4327-837b-0dbc3d2d9fc1",
   "metadata": {},
   "source": [
    "## Visualization"
   ]
  },
  {
   "cell_type": "code",
   "execution_count": null,
   "id": "17f59278-0511-4c37-80e7-63ccf84bfa0c",
   "metadata": {},
   "outputs": [],
   "source": [
    "def plot_correlation_scatter(\n",
    "    correlation_df,\n",
    "    wavenumbers,\n",
    "    important_indices,\n",
    "    shap_values,\n",
    "    labels,\n",
    "    property_name,\n",
    "    polymer_type=None,\n",
    "    threshold=0.9,\n",
    "):\n",
    "    \"\"\"\n",
    "    Plot scatter of wavenumbers with correlation > threshold for each important wavenumber.\n",
    "    \"\"\"\n",
    "\n",
    "    def find_corr_col(w):\n",
    "        col_variants = [\n",
    "            f\"Correlation_with_{int(w)}\",\n",
    "            f\"{property_name}_{polymer_type}_corr_{int(w)}\" if polymer_type else None,\n",
    "            f\"{property_name}_corr_{int(w)}\",\n",
    "        ]\n",
    "        return next(\n",
    "            (col for col in col_variants if col and col in correlation_df.columns), None\n",
    "        )\n",
    "\n",
    "    important_wavenumbers = wavenumbers[important_indices]\n",
    "    n_important = len(important_indices)\n",
    "    mean_abs_shap = np.mean(np.abs(shap_values.values[:, :n_important]), axis=0)\n",
    "    order = np.argsort(mean_abs_shap)\n",
    "\n",
    "    y_positions = np.linspace(-0.4, 0.3, len(order))\n",
    "    plt.figure(figsize=(6, 3.4))\n",
    "    sc = None\n",
    "\n",
    "    for idx, y in zip(order, y_positions):\n",
    "        w = important_wavenumbers[idx]\n",
    "        col_name = find_corr_col(w)\n",
    "\n",
    "        if col_name:\n",
    "            corr = correlation_df[col_name]\n",
    "            sig_mask = np.abs(corr) > threshold\n",
    "            if sig_mask.any():\n",
    "                sc = plt.scatter(\n",
    "                    wavenumbers[sig_mask],\n",
    "                    [y] * sig_mask.sum(),\n",
    "                    c=corr[sig_mask].values,\n",
    "                    cmap=shap.plots.colors.red_blue,\n",
    "                    marker=\"|\",\n",
    "                    s=150,\n",
    "                    vmin=-1,\n",
    "                    vmax=1,\n",
    "                )\n",
    "\n",
    "    if sc:\n",
    "        cbar = plt.colorbar(sc, label=\"Correlation coefficient\")\n",
    "        cbar.ax.tick_params(labelsize=9)\n",
    "        cbar.set_label(\"Correlation coefficient\", fontsize=10)\n",
    "\n",
    "    plt.xlabel(\"Wavenumbers [cm$^{-1}$]\", fontsize=10)\n",
    "    plt.xlim(3500, 12500)\n",
    "    plt.xticks(np.arange(4000, 12001, 2000), fontsize=10)\n",
    "    plt.yticks(\n",
    "        y_positions, [f\"{int(w)}\" for w in important_wavenumbers[order]], fontsize=10\n",
    "    )\n",
    "    plt.ylim(-1.0, 0.7)\n",
    "\n",
    "    title = f\"{property_name.capitalize()}\"\n",
    "    if polymer_type:\n",
    "        title += f\" - {polymer_type} samples\"\n",
    "    plt.title(title, fontsize=11)\n",
    "\n",
    "    ymin, ymax = plt.ylim()\n",
    "    plt.axvspan(5848, 5917, color=\"orange\", alpha=0.2)\n",
    "    plt.vlines([8390, 8427], ymin, ymax, color=\"orange\", linewidth=0.5)\n",
    "    plt.subplots_adjust(left=0.15, right=0.85, top=0.85, bottom=0.32)"
   ]
  },
  {
   "cell_type": "markdown",
   "id": "281d81b7-2c2f-40d5-9934-ad7ca2bb312d",
   "metadata": {},
   "source": [
    "## Make parity plots"
   ]
  },
  {
   "cell_type": "code",
   "execution_count": null,
   "id": "d1b48b80-7e2b-415b-9799-bdcb52195e4b",
   "metadata": {},
   "outputs": [],
   "source": [
    "def parityplots(\n",
    "    wavexTrain, wavexTest, keep, model, ypredTrain, ypredTest, yactTrain, yactTest\n",
    "):\n",
    "    \"\"\"Create parity plots.\"\"\"\n",
    "\n",
    "    yxaiTrain = model.predict(wavexTrain[:, np.array(keep).astype(int)])\n",
    "    yxaiTest = model.predict(wavexTest[:, np.array(keep).astype(int)])\n",
    "\n",
    "    plt.plot(ypredTrain, yxaiTrain, \"ro\", label=\"train\")\n",
    "    plt.plot(ypredTest, yxaiTest, \"bo\", label=\"test\")\n",
    "    plt.plot(ypredTrain, ypredTrain)\n",
    "    plt.ylabel(\"XAI predictions\")\n",
    "    plt.xlabel(\"PLSR predictions\")\n",
    "    plt.legend()\n",
    "    plt.show()\n",
    "\n",
    "    plt.plot(yactTrain, yxaiTrain, \"ro\", label=\"train\")\n",
    "    plt.plot(yactTest, yxaiTest, \"bo\", label=\"test\")\n",
    "    plt.plot(yactTrain, yactTrain)\n",
    "    plt.ylabel(\"XAI predictions\")\n",
    "    plt.xlabel(\"Measured values\")\n",
    "    plt.legend()\n",
    "    plt.show()\n",
    "\n",
    "    return"
   ]
  },
  {
   "cell_type": "markdown",
   "id": "3dce5dda-e09a-4ed8-ad2f-70436dad9a6e",
   "metadata": {},
   "source": [
    "# Get measurement values for connecting sample name to measured value"
   ]
  },
  {
   "cell_type": "code",
   "execution_count": null,
   "id": "0ee62237-52d7-4c81-b761-b35f22248a5a",
   "metadata": {},
   "outputs": [],
   "source": [
    "file_path = \"../Data/PropertyMeasurements.csv\"\n",
    "\n",
    "dfprop = pd.read_csv(file_path, usecols=[0, 1, 2, 3])\n",
    "\n",
    "# remove units for ease of use\n",
    "header = dfprop.columns.tolist()\n",
    "header = [label.split()[0] for label in header]\n",
    "dfprop.columns = header\n",
    "\n",
    "dfprop.head()"
   ]
  },
  {
   "cell_type": "code",
   "execution_count": null,
   "id": "7fca4f34-0a7e-40d5-bb49-8dc45f80c867",
   "metadata": {},
   "outputs": [],
   "source": [
    "spectral_data = load_preprocessed_spectra()\n",
    "RNV_q = spectral_data[\"wavenumbers\"]"
   ]
  },
  {
   "cell_type": "markdown",
   "id": "a772b73c-d5a4-4f14-a300-039f29c9e602",
   "metadata": {},
   "source": [
    "# Density"
   ]
  },
  {
   "cell_type": "markdown",
   "id": "bc0c2adc-3c78-4288-bef9-b3bc1545616e",
   "metadata": {},
   "source": [
    "## Get the data"
   ]
  },
  {
   "cell_type": "code",
   "execution_count": null,
   "id": "79db58b8",
   "metadata": {},
   "outputs": [],
   "source": [
    "(\n",
    "    wavexTrain,\n",
    "    wavecoeffsTrain,\n",
    "    ypredTrain,\n",
    "    yactTrain,\n",
    "    interceptTrain,\n",
    "    wavexTest,\n",
    "    ypredTest,\n",
    "    yactTest,\n",
    ") = getdata(\"density\")\n",
    "rmse = np.sqrt(\n",
    "    np.mean(\n",
    "        ((np.matmul(wavexTrain, wavecoeffsTrain) + interceptTrain) - ypredTrain) ** 2.0\n",
    "    )\n",
    ")\n",
    "print(\"RMSE between prediction and recalculated prediction (should be 0):\", rmse)"
   ]
  },
  {
   "cell_type": "markdown",
   "id": "b5d4d5c2-64c8-4ec9-8ea4-f8729f0af898",
   "metadata": {},
   "source": [
    "## Reduce the number of potential candidates via LASSO\n",
    "\n",
    "The number of variables keep should be increased until either important wavenumbers are unchanged or error is larger. In general, 30, 45, and 60 are used."
   ]
  },
  {
   "cell_type": "code",
   "execution_count": null,
   "id": "fe1dc756-48fc-413f-a1a8-5fad9cdfe18e",
   "metadata": {},
   "outputs": [],
   "source": [
    "important_try = reducecandidates(\n",
    "    30, wavexTrain, wavecoeffsTrain, ypredTrain, -5.7, -2.5\n",
    ")"
   ]
  },
  {
   "cell_type": "markdown",
   "id": "6ea216bf-82ab-4655-b5af-4ba00f14ab1c",
   "metadata": {},
   "source": [
    "## Brute force identify important wavenumbers\n",
    "\n",
    "This is the most computatational expense step. Results are saved below, so it is commented out."
   ]
  },
  {
   "cell_type": "code",
   "execution_count": null,
   "id": "7e65e727-897b-46fc-8b51-dc4e0b88f557",
   "metadata": {},
   "outputs": [],
   "source": [
    "# bestrmse, keep, rmselist, keeplist = eliminate_variables(1, 5, important_try, wavexTrain, ypredTrain, 2e-13)"
   ]
  },
  {
   "cell_type": "markdown",
   "id": "a353c833-bb4e-47df-a617-b4ea29c7b23d",
   "metadata": {},
   "source": [
    "### Print the rmselist and keeplist"
   ]
  },
  {
   "cell_type": "code",
   "execution_count": null,
   "id": "ba6fc82b-c0f2-45ec-b58d-20a66da20018",
   "metadata": {},
   "outputs": [],
   "source": [
    "# print(rmselist)\n",
    "# print([list(item) for item in keeplist])"
   ]
  },
  {
   "cell_type": "markdown",
   "id": "8e85e97b-7dc7-45f7-ab1c-437a6deaadce",
   "metadata": {},
   "source": [
    "### Save previously run results"
   ]
  },
  {
   "cell_type": "code",
   "execution_count": null,
   "id": "718813df-2db5-455e-9cab-8d50949d1d35",
   "metadata": {},
   "outputs": [],
   "source": [
    "rmselist30 = [\n",
    "    np.float64(0.00922178558089218),\n",
    "    np.float64(0.005522627792975964),\n",
    "    np.float64(0.0033134125349020744),\n",
    "    np.float64(0.0025977091987638983),\n",
    "    np.float64(0.0020865412794736837),\n",
    "]\n",
    "keeplist30 = [\n",
    "    [np.int64(2395)],\n",
    "    [np.int64(1643), np.int64(1658)],\n",
    "    [np.int64(1016), np.int64(2367), np.int64(2391)],\n",
    "    [np.int64(1658), np.int64(1992), np.int64(2367), np.int64(2391)],\n",
    "    [np.int64(167), np.int64(691), np.int64(1015), np.int64(1642), np.int64(2395)],\n",
    "]"
   ]
  },
  {
   "cell_type": "code",
   "execution_count": null,
   "id": "2ee88981-57d4-4304-afde-f05676567b02",
   "metadata": {},
   "outputs": [],
   "source": [
    "rmselist45 = [\n",
    "    np.float64(0.00922178558089218),\n",
    "    np.float64(0.005522627792975964),\n",
    "    np.float64(0.0033134125349020744),\n",
    "    np.float64(0.002540908953017799),\n",
    "    np.float64(0.0021131752686593336),\n",
    "]\n",
    "keeplist45 = [\n",
    "    [np.int64(2395)],\n",
    "    [np.int64(1643), np.int64(1658)],\n",
    "    [np.int64(1016), np.int64(2367), np.int64(2391)],\n",
    "    [np.int64(694), np.int64(1015), np.int64(1643), np.int64(2391)],\n",
    "    [np.int64(52), np.int64(691), np.int64(1015), np.int64(1642), np.int64(2395)],\n",
    "]"
   ]
  },
  {
   "cell_type": "code",
   "execution_count": null,
   "id": "db7f11ae-6e53-420c-be72-b93f1676d4c8",
   "metadata": {},
   "outputs": [],
   "source": [
    "rmselist60 = [\n",
    "    np.float64(0.00922178558089218),\n",
    "    np.float64(0.005248959624292605),\n",
    "    np.float64(0.0033134125349020744),\n",
    "    np.float64(0.002540908953017799),\n",
    "    np.float64(0.002122974657264155),\n",
    "]\n",
    "keeplist60 = [\n",
    "    [np.int64(2395)],\n",
    "    [np.int64(1645), np.int64(1658)],\n",
    "    [np.int64(1016), np.int64(2367), np.int64(2391)],\n",
    "    [np.int64(694), np.int64(1015), np.int64(1643), np.int64(2391)],\n",
    "    [np.int64(46), np.int64(688), np.int64(1015), np.int64(1642), np.int64(2395)],\n",
    "]"
   ]
  },
  {
   "cell_type": "markdown",
   "id": "a2d49794-5121-4f46-885c-706b70ad700f",
   "metadata": {},
   "source": [
    "## Decide which list to use and how many important wavenumbers to keep"
   ]
  },
  {
   "cell_type": "code",
   "execution_count": null,
   "id": "005d236f-9908-45ef-8de7-a0a87f3d5aef",
   "metadata": {},
   "outputs": [],
   "source": [
    "plt.plot(np.arange(len(rmselist30)) + 1, rmselist30, \".\", label=\"30\")\n",
    "plt.plot(np.arange(len(rmselist45)) + 1, rmselist45, \"x\", label=\"45\")\n",
    "plt.plot(np.arange(len(rmselist60)) + 1, rmselist60, \"s\", label=\"60\")\n",
    "plt.xlabel(\"Number of important wavenumbers\")\n",
    "plt.ylabel(\"RMSE\")\n",
    "plt.legend()\n",
    "plt.show()"
   ]
  },
  {
   "cell_type": "code",
   "execution_count": null,
   "id": "b6e81354-6763-496e-9515-28cd52de3feb",
   "metadata": {},
   "outputs": [],
   "source": [
    "print(getratios(rmselist30))"
   ]
  },
  {
   "cell_type": "markdown",
   "id": "43f7adde-0ad0-46b1-aee3-84adb6c53f5e",
   "metadata": {},
   "source": [
    "We see that the improvement drops after 3 important wavenumbers. The error for 3 wavenumbers is also around measurement error and lower than model error, so this is a good choice."
   ]
  },
  {
   "cell_type": "code",
   "execution_count": null,
   "id": "fc621cfe-a692-4ff9-b1ef-65b6a0eb4c5d",
   "metadata": {},
   "outputs": [],
   "source": [
    "imp = 3 - 1  # due to 0 indexing\n",
    "print(keeplist30[imp])\n",
    "print(keeplist45[imp])\n",
    "print(keeplist60[imp])"
   ]
  },
  {
   "cell_type": "markdown",
   "id": "88417743-7cd8-47f1-9f35-857f87b19576",
   "metadata": {},
   "source": [
    "The important wavenumbers are unaffected by the intial number selected by LASSO, so we can pick any of them."
   ]
  },
  {
   "cell_type": "code",
   "execution_count": null,
   "id": "694ad0e2-6e5e-4afd-bf42-56c29a25fb48",
   "metadata": {},
   "outputs": [],
   "source": [
    "keep_density = keeplist30[2]\n",
    "print(keep_density)"
   ]
  },
  {
   "cell_type": "markdown",
   "id": "72836cf9-6ad8-435c-b78b-04acbf0e7940",
   "metadata": {},
   "source": [
    "## Look at the correlations between important wavenumbers"
   ]
  },
  {
   "cell_type": "code",
   "execution_count": null,
   "id": "131f8546-db90-4d1d-bfd9-1e518f585117",
   "metadata": {},
   "outputs": [],
   "source": [
    "df = pd.DataFrame(wavexTrain[:, keep_density], columns=keep_density)\n",
    "\n",
    "corr = df.corr()\n",
    "corr.style.background_gradient(cmap=\"coolwarm\")"
   ]
  },
  {
   "cell_type": "markdown",
   "id": "b0fbd0c1-4e56-4b5f-a09a-979ad732f771",
   "metadata": {},
   "source": [
    "## Train the model again and compute SHAP values"
   ]
  },
  {
   "cell_type": "code",
   "execution_count": null,
   "id": "2c7ac9ac-8ee4-45ba-ba8d-41c4424f4ca2",
   "metadata": {},
   "outputs": [],
   "source": [
    "model = linear_model.LinearRegression()\n",
    "model.fit(wavexTrain[:, np.array(keep_density).astype(int)], ypredTrain)\n",
    "\n",
    "important_coeff = model.coef_\n",
    "important_intercept = model.intercept_"
   ]
  },
  {
   "cell_type": "code",
   "execution_count": null,
   "id": "3900483c-9229-4941-9b94-b503c8e61c5a",
   "metadata": {},
   "outputs": [],
   "source": [
    "shap_values, labels = SHAPreducer(\n",
    "    wavecoeffsTrain,\n",
    "    interceptTrain,\n",
    "    model.coef_,\n",
    "    keep_density,\n",
    "    np.concatenate((wavexTrain, wavexTest)),\n",
    "    RNV_q,\n",
    ")\n",
    "\n",
    "ax = shap.summary_plot(shap_values, shap_values.data, feature_names=labels, show=False)\n",
    "plt.savefig(\"density.jpg\")"
   ]
  },
  {
   "cell_type": "markdown",
   "id": "fc727f99-ad72-40c5-bb81-50d4b876415e",
   "metadata": {},
   "source": [
    "## Create parity plots"
   ]
  },
  {
   "cell_type": "code",
   "execution_count": null,
   "id": "2dc3168f-b4af-4537-a441-80f1ffe68079",
   "metadata": {},
   "outputs": [],
   "source": [
    "parityplots(\n",
    "    wavexTrain,\n",
    "    wavexTest,\n",
    "    keep_density,\n",
    "    model,\n",
    "    ypredTrain,\n",
    "    ypredTest,\n",
    "    yactTrain,\n",
    "    yactTest,\n",
    ")"
   ]
  },
  {
   "cell_type": "code",
   "execution_count": null,
   "id": "f71fce0e-b449-47e5-b60a-d28e9e3db26f",
   "metadata": {},
   "outputs": [],
   "source": [
    "for i, keep_idx in enumerate(keep_density):\n",
    "    print(f\"keep wavenumber: {RNV_q[keep_idx]}\")"
   ]
  },
  {
   "cell_type": "markdown",
   "id": "609d9d9e-4e4b-48f4-a5b3-283c64ce8825",
   "metadata": {},
   "source": [
    "## Compute Pearson's correlation coefficients for important wavenumbers for sensity and plot key spectral regions with high coefficients"
   ]
  },
  {
   "cell_type": "code",
   "execution_count": null,
   "id": "8ec7bdda-c32e-4a87-bc56-87a50609eff7",
   "metadata": {},
   "outputs": [],
   "source": []
  },
  {
   "cell_type": "code",
   "execution_count": null,
   "id": "f2c4b7a6-64ef-45e4-ad30-3d982fc7dec3",
   "metadata": {},
   "outputs": [],
   "source": [
    "correlation_df_density = compute_correlation(\n",
    "    important_indices=keep_density,\n",
    "    property_name=\"density\",\n",
    "    spectral_data=spectral_data,\n",
    "    split_by_polymer=False,\n",
    ")\n",
    "\n",
    "# Plot key spectral regions\n",
    "plot_correlation_scatter(\n",
    "    correlation_df_density,\n",
    "    RNV_q,\n",
    "    keep_density,\n",
    "    shap_values,\n",
    "    labels,\n",
    "    threshold=0.9,\n",
    "    property_name=\"density\",\n",
    ")"
   ]
  },
  {
   "cell_type": "markdown",
   "id": "037dcaac",
   "metadata": {},
   "source": [
    "# SCB"
   ]
  },
  {
   "cell_type": "markdown",
   "id": "00b80765",
   "metadata": {},
   "source": [
    "## Get the data"
   ]
  },
  {
   "cell_type": "code",
   "execution_count": null,
   "id": "64feb2e4",
   "metadata": {},
   "outputs": [],
   "source": [
    "(\n",
    "    wavexTrain,\n",
    "    wavecoeffsTrain,\n",
    "    ypredTrain,\n",
    "    yactTrain,\n",
    "    interceptTrain,\n",
    "    wavexTest,\n",
    "    ypredTest,\n",
    "    yactTest,\n",
    ") = getdata(\"SCB/\")\n",
    "rmse = np.sqrt(\n",
    "    np.mean(\n",
    "        ((np.matmul(wavexTrain, wavecoeffsTrain) + interceptTrain) - ypredTrain) ** 2.0\n",
    "    )\n",
    ")\n",
    "print(\"RMSE between prediction and recalculated prediction (should be 0):\", rmse)"
   ]
  },
  {
   "cell_type": "markdown",
   "id": "9ecd4212",
   "metadata": {},
   "source": [
    "## Reduce the number of potential candidates via LASSO"
   ]
  },
  {
   "cell_type": "code",
   "execution_count": null,
   "id": "57e123c7",
   "metadata": {},
   "outputs": [],
   "source": [
    "important_try = reducecandidates(30, wavexTrain, wavecoeffsTrain, ypredTrain, -3.5, 0)"
   ]
  },
  {
   "cell_type": "markdown",
   "id": "304ffa4c",
   "metadata": {},
   "source": [
    "## Brute force identify important wavenumbers\n",
    "\n",
    "This is the most computatational expense step. Results are saved below, so it is commented out."
   ]
  },
  {
   "cell_type": "code",
   "execution_count": null,
   "id": "67f5061f",
   "metadata": {},
   "outputs": [],
   "source": [
    "# bestrmse, keep, rmselist, keeplist = eliminate_variables(1, 5, important_try, wavexTrain, ypredTrain, 2e-13)"
   ]
  },
  {
   "cell_type": "markdown",
   "id": "2dc5dd76-2798-4709-a077-bcaf38f7befb",
   "metadata": {},
   "source": [
    "### Print the rmselist and keeplist"
   ]
  },
  {
   "cell_type": "code",
   "execution_count": null,
   "id": "fa17ff5e-d996-471a-aa5b-0bbc07029e5b",
   "metadata": {},
   "outputs": [],
   "source": [
    "# print(rmselist)\n",
    "# print([list(item) for item in keeplist])"
   ]
  },
  {
   "cell_type": "code",
   "execution_count": null,
   "id": "36e164fb-68f9-416b-9fab-f313c7168b3d",
   "metadata": {},
   "outputs": [],
   "source": [
    "### Save previously run results"
   ]
  },
  {
   "cell_type": "code",
   "execution_count": null,
   "id": "fb3851e5-a2db-438f-bee5-c0520af3c112",
   "metadata": {},
   "outputs": [],
   "source": [
    "rmselist30 = [\n",
    "    np.float64(22.04513919618388),\n",
    "    np.float64(10.9276408954596),\n",
    "    np.float64(5.678916003605397),\n",
    "    np.float64(4.584504402446514),\n",
    "    np.float64(4.001900761640599),\n",
    "]\n",
    "keeplist30 = [\n",
    "    [np.int64(2422)],\n",
    "    [np.int64(2124), np.int64(2303)],\n",
    "    [np.int64(1167), np.int64(1632), np.int64(2421)],\n",
    "    [np.int64(1167), np.int64(1632), np.int64(2418), np.int64(3597)],\n",
    "    [np.int64(1605), np.int64(1632), np.int64(1813), np.int64(2422), np.int64(3622)],\n",
    "]"
   ]
  },
  {
   "cell_type": "code",
   "execution_count": null,
   "id": "90b47b62-9175-4c98-8bad-5956c2d10768",
   "metadata": {},
   "outputs": [],
   "source": [
    "rmselist45 = [\n",
    "    np.float64(22.04513919618388),\n",
    "    np.float64(10.9276408954596),\n",
    "    np.float64(5.6830435160832256),\n",
    "    np.float64(4.449087480242264),\n",
    "    np.float64(3.924620614067766),\n",
    "]\n",
    "keeplist45 = [\n",
    "    [np.int64(2422)],\n",
    "    [np.int64(2124), np.int64(2303)],\n",
    "    [np.int64(1166), np.int64(1632), np.int64(2421)],\n",
    "    [np.int64(1166), np.int64(1626), np.int64(2410), np.int64(3019)],\n",
    "    [np.int64(1602), np.int64(1623), np.int64(1821), np.int64(2421), np.int64(3025)],\n",
    "]"
   ]
  },
  {
   "cell_type": "code",
   "execution_count": null,
   "id": "fe0eac2f-86ed-4720-b3b6-520484977f58",
   "metadata": {},
   "outputs": [],
   "source": [
    "rmselist60 = [\n",
    "    np.float64(22.04513919618388),\n",
    "    np.float64(10.74381694850665),\n",
    "    np.float64(5.81341318068204),\n",
    "    np.float64(4.378641027407042),\n",
    "]\n",
    "keeplist60 = [\n",
    "    [np.int64(2422)],\n",
    "    [np.int64(2124), np.int64(2304)],\n",
    "    [np.int64(1166), np.int64(1631), np.int64(2422)],\n",
    "    [np.int64(1166), np.int64(1630), np.int64(2410), np.int64(3031)],\n",
    "]"
   ]
  },
  {
   "cell_type": "markdown",
   "id": "30177fa4-9d50-46d4-830f-b1bb64dea6c8",
   "metadata": {},
   "source": [
    "## Decide which list to use and how many important wavenumbers to keep"
   ]
  },
  {
   "cell_type": "code",
   "execution_count": null,
   "id": "3f5f69fe-88b4-4ede-8dd9-505201314736",
   "metadata": {},
   "outputs": [],
   "source": [
    "plt.plot(np.arange(len(rmselist30)) + 1, rmselist30, \".\", label=\"30\")\n",
    "plt.plot(np.arange(len(rmselist45)) + 1, rmselist45, \"x\", label=\"45\")\n",
    "plt.plot(np.arange(len(rmselist60)) + 1, rmselist60, \"s\", label=\"60\")\n",
    "plt.xlabel(\"Number of important wavenumbers\")\n",
    "plt.ylabel(\"RMSE\")\n",
    "plt.legend()\n",
    "plt.show()"
   ]
  },
  {
   "cell_type": "code",
   "execution_count": null,
   "id": "26b66a88-2f66-423a-b1f7-34633a2d3d02",
   "metadata": {},
   "outputs": [],
   "source": [
    "print(getratios(rmselist30))"
   ]
  },
  {
   "cell_type": "markdown",
   "id": "7757fd4e-4aa5-4bc8-b8bb-07a2a20aca45",
   "metadata": {},
   "source": [
    "We see that the improvement drops after 3 important wavenumbers. The error for 3 wavenumbers is also around model and measurement error, so this is a good choice."
   ]
  },
  {
   "cell_type": "code",
   "execution_count": null,
   "id": "5593f8c0-5d86-4dd1-bd2e-75a6a735978f",
   "metadata": {},
   "outputs": [],
   "source": [
    "imp = 3 - 1  # due to 0 indexing\n",
    "print(keeplist30[imp])\n",
    "print(keeplist45[imp])\n",
    "print(keeplist60[imp])"
   ]
  },
  {
   "cell_type": "markdown",
   "id": "607e712f-2c6d-4811-9d3d-807eeb1ed708",
   "metadata": {},
   "source": [
    "All three are very close. Pick the lowest error."
   ]
  },
  {
   "cell_type": "code",
   "execution_count": null,
   "id": "57ba6d7f-b6fb-4a17-9826-4135e30dc499",
   "metadata": {},
   "outputs": [],
   "source": [
    "print(rmselist30[imp])\n",
    "print(rmselist45[imp])\n",
    "print(rmselist60[imp])"
   ]
  },
  {
   "cell_type": "code",
   "execution_count": null,
   "id": "8ef69754-7cb2-476a-baed-db92f102b8dc",
   "metadata": {},
   "outputs": [],
   "source": [
    "keep_SCB = keeplist30[2]\n",
    "print(keep_SCB)"
   ]
  },
  {
   "cell_type": "markdown",
   "id": "9b6cbead",
   "metadata": {},
   "source": [
    "## Look at the correlations between important wavenumbers"
   ]
  },
  {
   "cell_type": "code",
   "execution_count": null,
   "id": "8690060c",
   "metadata": {},
   "outputs": [],
   "source": [
    "df = pd.DataFrame(wavexTrain[:, keep_SCB], columns=keep_SCB)\n",
    "\n",
    "corr = df.corr()\n",
    "corr.style.background_gradient(cmap=\"coolwarm\")"
   ]
  },
  {
   "cell_type": "markdown",
   "id": "7fcff624-4696-4afb-ab93-6c39ac2fed1c",
   "metadata": {},
   "source": [
    "## Train the model again and compute SHAP values"
   ]
  },
  {
   "cell_type": "code",
   "execution_count": null,
   "id": "7b8c442f-d30a-4292-a547-7ef3a234d924",
   "metadata": {},
   "outputs": [],
   "source": [
    "model = linear_model.LinearRegression()\n",
    "model.fit(wavexTrain[:, np.array(keep_SCB).astype(int)], ypredTrain)\n",
    "\n",
    "important_coeff = model.coef_\n",
    "important_intercept = model.intercept_"
   ]
  },
  {
   "cell_type": "code",
   "execution_count": null,
   "id": "9921a8c0-8577-40aa-8bcf-84453ed0cc86",
   "metadata": {},
   "outputs": [],
   "source": [
    "shap_values, labels = SHAPreducer(\n",
    "    wavecoeffsTrain,\n",
    "    interceptTrain,\n",
    "    model.coef_,\n",
    "    keep_SCB,\n",
    "    np.concatenate((wavexTrain, wavexTest)),\n",
    "    RNV_q,\n",
    ")\n",
    "\n",
    "ax = shap.summary_plot(shap_values, shap_values.data, feature_names=labels, show=False)\n",
    "plt.savefig(\"SCB.jpg\")"
   ]
  },
  {
   "cell_type": "code",
   "execution_count": null,
   "id": "79b1cf50-538b-42f9-8eda-ac253dfe1203",
   "metadata": {},
   "outputs": [],
   "source": [
    "keep_SCB"
   ]
  },
  {
   "cell_type": "markdown",
   "id": "3639d694-b6c2-4be2-89c3-6f1a2886b4b4",
   "metadata": {},
   "source": [
    "## Create parity plots"
   ]
  },
  {
   "cell_type": "code",
   "execution_count": null,
   "id": "0e7fe321-5375-47cb-9602-bfa23c99bd69",
   "metadata": {},
   "outputs": [],
   "source": [
    "parityplots(\n",
    "    wavexTrain, wavexTest, keep_SCB, model, ypredTrain, ypredTest, yactTrain, yactTest\n",
    ")"
   ]
  },
  {
   "cell_type": "markdown",
   "id": "32ba1e55-282b-42cc-97a5-050abef1f4f0",
   "metadata": {},
   "source": [
    "## Compute Pearson's correlation coefficients for important wavenumbers for SCB and plot key spectral regions with high coefficients"
   ]
  },
  {
   "cell_type": "code",
   "execution_count": null,
   "id": "e10bb7d8-5c3a-4a72-af01-291bf796905a",
   "metadata": {},
   "outputs": [],
   "source": [
    "correlation_df_SCB = compute_correlation(\n",
    "    important_indices=keep_SCB,\n",
    "    property_name=\"SCB\",\n",
    "    spectral_data=spectral_data,\n",
    "    split_by_polymer=False,\n",
    ")"
   ]
  },
  {
   "cell_type": "code",
   "execution_count": null,
   "id": "de0ea01c-6069-4105-ab03-03912ba5aed2",
   "metadata": {},
   "outputs": [],
   "source": [
    "plot_correlation_scatter(\n",
    "    correlation_df_SCB,\n",
    "    RNV_q,\n",
    "    keep_SCB,\n",
    "    shap_values,\n",
    "    labels,\n",
    "    threshold=0.9,\n",
    "    property_name=\"SCB\",\n",
    ")"
   ]
  },
  {
   "cell_type": "markdown",
   "id": "f2ecf9bf",
   "metadata": {},
   "source": [
    "# Crystallinity"
   ]
  },
  {
   "cell_type": "markdown",
   "id": "6c604619",
   "metadata": {},
   "source": [
    "## Get the data"
   ]
  },
  {
   "cell_type": "code",
   "execution_count": null,
   "id": "726557bf-1a93-4c2d-87d2-8fe842f98190",
   "metadata": {},
   "outputs": [],
   "source": [
    "(\n",
    "    wavexTrain,\n",
    "    wavecoeffsTrain,\n",
    "    ypredTrain,\n",
    "    yactTrain,\n",
    "    interceptTrain,\n",
    "    wavexTest,\n",
    "    ypredTest,\n",
    "    yactTest,\n",
    ") = getdata(\"Crystallinity/\")\n",
    "rmse = np.sqrt(\n",
    "    np.mean(\n",
    "        ((np.matmul(wavexTrain, wavecoeffsTrain) + interceptTrain) - ypredTrain) ** 2.0\n",
    "    )\n",
    ")\n",
    "print(\"RMSE between prediction and recalculated prediction (should be 0):\", rmse)"
   ]
  },
  {
   "cell_type": "markdown",
   "id": "6fb8451d",
   "metadata": {},
   "source": [
    "## Reduce the number of potential candidates via LASSO\n",
    "\n",
    "The number of variables keep should be increased until either important wavenumbers are unchanged or error is larger. In general, 30, 45, and 60 are used."
   ]
  },
  {
   "cell_type": "code",
   "execution_count": null,
   "id": "22fe32f0",
   "metadata": {},
   "outputs": [],
   "source": [
    "important_try = reducecandidates(60, wavexTrain, wavecoeffsTrain, ypredTrain, -4, -1.5)"
   ]
  },
  {
   "cell_type": "markdown",
   "id": "e29b9030",
   "metadata": {},
   "source": [
    "## Brute force identify important wavenumbers\n",
    "\n",
    "This is the most computatational expense step. Results are saved below, so it is commented out."
   ]
  },
  {
   "cell_type": "code",
   "execution_count": null,
   "id": "f0809060",
   "metadata": {},
   "outputs": [],
   "source": [
    "# bestrmse, keep, rmselist, keeplist = eliminate_variables(1, 4, important_try, wavexTrain, ypredTrain, 2e-13)"
   ]
  },
  {
   "cell_type": "markdown",
   "id": "36ffa2ff-4e38-425b-8bf9-4c5e5a8aee1f",
   "metadata": {},
   "source": [
    "### Print the rmselist and keeplist"
   ]
  },
  {
   "cell_type": "code",
   "execution_count": null,
   "id": "89d4cc64-4200-4444-9b26-5b8b0cd29ec5",
   "metadata": {},
   "outputs": [],
   "source": [
    "# print(rmselist)\n",
    "# print([list(item) for item in keeplist])"
   ]
  },
  {
   "cell_type": "markdown",
   "id": "9ff1bc67-69a9-4f05-90c2-71bfe144d911",
   "metadata": {},
   "source": [
    "### Save previously run results"
   ]
  },
  {
   "cell_type": "code",
   "execution_count": null,
   "id": "2d8d329b-a7de-47fc-bf6a-fdef97b24b56",
   "metadata": {},
   "outputs": [],
   "source": [
    "rmselist30 = [\n",
    "    np.float64(0.08178873550099912),\n",
    "    np.float64(0.05376756079953261),\n",
    "    np.float64(0.0461775627409034),\n",
    "    np.float64(0.038237664862284325),\n",
    "    np.float64(0.033924346719240696),\n",
    "]\n",
    "keeplist30 = [\n",
    "    [np.int64(1660)],\n",
    "    [np.int64(1639), np.int64(1660)],\n",
    "    [np.int64(1638), np.int64(1660), np.int64(2784)],\n",
    "    [np.int64(1638), np.int64(1660), np.int64(2961), np.int64(3919)],\n",
    "    [np.int64(1639), np.int64(1660), np.int64(2716), np.int64(2777), np.int64(3919)],\n",
    "]"
   ]
  },
  {
   "cell_type": "code",
   "execution_count": null,
   "id": "4444a377-6477-46f5-a175-be5d77798d53",
   "metadata": {},
   "outputs": [],
   "source": [
    "rmselist45 = [\n",
    "    np.float64(0.08178873550099912),\n",
    "    np.float64(0.05376756079953261),\n",
    "    np.float64(0.046205982030066206),\n",
    "    np.float64(0.037393546151287156),\n",
    "    np.float64(0.033924346719240696),\n",
    "]\n",
    "keeplist45 = [\n",
    "    [np.int64(1660)],\n",
    "    [np.int64(1639), np.int64(1660)],\n",
    "    [np.int64(1638), np.int64(1660), np.int64(2777)],\n",
    "    [np.int64(1638), np.int64(1660), np.int64(2961), np.int64(4011)],\n",
    "    [np.int64(1639), np.int64(1660), np.int64(2716), np.int64(2777), np.int64(3919)],\n",
    "]"
   ]
  },
  {
   "cell_type": "code",
   "execution_count": null,
   "id": "46276ca5-1b1b-4e84-bd6a-958c9b8410e3",
   "metadata": {},
   "outputs": [],
   "source": [
    "rmselist60 = [\n",
    "    np.float64(0.08178873550099912),\n",
    "    np.float64(0.05376756079953261),\n",
    "    np.float64(0.04512420282064609),\n",
    "    np.float64(0.037393546151287156),\n",
    "]\n",
    "keeplist60 = [\n",
    "    [np.int64(1660)],\n",
    "    [np.int64(1639), np.int64(1660)],\n",
    "    [np.int64(1331), np.int64(1660), np.int64(2798)],\n",
    "    [np.int64(1638), np.int64(1660), np.int64(2961), np.int64(4011)],\n",
    "]"
   ]
  },
  {
   "cell_type": "code",
   "execution_count": null,
   "id": "d8e0a1b8-1426-4912-a63b-464dcf3b52b8",
   "metadata": {},
   "outputs": [],
   "source": [
    "rmselist75 = [\n",
    "    np.float64(0.08178873550099912),\n",
    "    np.float64(0.05376756079953261),\n",
    "    np.float64(0.04512420282064609),\n",
    "    np.float64(0.03817743231702813),\n",
    "]\n",
    "keeplist75 = [\n",
    "    [np.int64(1660)],\n",
    "    [np.int64(1639), np.int64(1660)],\n",
    "    [np.int64(1331), np.int64(1660), np.int64(2798)],\n",
    "    [np.int64(1639), np.int64(1660), np.int64(3763), np.int64(3919)],\n",
    "]"
   ]
  },
  {
   "cell_type": "code",
   "execution_count": null,
   "id": "58d7ca3a-c135-4716-b15a-85f378390993",
   "metadata": {},
   "outputs": [],
   "source": [
    "## Decide which list to use and how many important wavenumbers to keep"
   ]
  },
  {
   "cell_type": "code",
   "execution_count": null,
   "id": "e3581087-d2b9-4e6b-8972-d5a71861f997",
   "metadata": {},
   "outputs": [],
   "source": [
    "plt.plot(np.arange(len(rmselist30)) + 1, rmselist30, \".\", label=\"30\")\n",
    "plt.plot(np.arange(len(rmselist45)) + 1, rmselist45, \"x\", label=\"45\")\n",
    "plt.plot(np.arange(len(rmselist60)) + 1, rmselist60, \"s\", label=\"60\")\n",
    "plt.plot(np.arange(len(rmselist75)) + 1, rmselist75, \"o\", label=\"75\")\n",
    "plt.xlabel(\"Number of important wavenumbers\")\n",
    "plt.ylabel(\"RMSE\")\n",
    "plt.legend()\n",
    "plt.show()"
   ]
  },
  {
   "cell_type": "code",
   "execution_count": null,
   "id": "8ddbada0-1fb4-42ac-b3c0-91bc2ebc1608",
   "metadata": {},
   "outputs": [],
   "source": [
    "print(getratios(rmselist30))"
   ]
  },
  {
   "cell_type": "markdown",
   "id": "6e8893ba-ec61-4ac3-9996-3abb5db9f2e3",
   "metadata": {},
   "source": [
    "Improvement drops off after 2 wavenumbers, but the error is too high compared to experimental error. Keep one additional wavenumber."
   ]
  },
  {
   "cell_type": "code",
   "execution_count": null,
   "id": "ec4083d2-c0d4-4304-801f-11d6924c5183",
   "metadata": {},
   "outputs": [],
   "source": [
    "imp = 3 - 1  # due to 0 indexing\n",
    "print(keeplist30[imp])\n",
    "print(keeplist45[imp])\n",
    "print(keeplist60[imp])\n",
    "print(keeplist75[imp])"
   ]
  },
  {
   "cell_type": "markdown",
   "id": "2be35396-814a-4af1-8f89-84269345a4fc",
   "metadata": {},
   "source": [
    "Once at least 60 is the initial selection for LASSO, the results are unchanged. Double check by looking at error."
   ]
  },
  {
   "cell_type": "code",
   "execution_count": null,
   "id": "84733ca5-1023-4dba-8678-3c7958654cdd",
   "metadata": {},
   "outputs": [],
   "source": [
    "print(rmselist30[imp])\n",
    "print(rmselist45[imp])\n",
    "print(rmselist60[imp])\n",
    "print(rmselist75[imp])"
   ]
  },
  {
   "cell_type": "code",
   "execution_count": null,
   "id": "a693a91e",
   "metadata": {},
   "outputs": [],
   "source": [
    "keep_crystallinity = keeplist60[2]\n",
    "print(keep_crystallinity)"
   ]
  },
  {
   "cell_type": "markdown",
   "id": "2ffaa70d-02ad-43ee-945a-ea607cb428a2",
   "metadata": {},
   "source": [
    "## Look at the correlations between important wavenumbers"
   ]
  },
  {
   "cell_type": "code",
   "execution_count": null,
   "id": "9fb3faf5-0db0-442a-ae62-5bd8b2a9a680",
   "metadata": {},
   "outputs": [],
   "source": [
    "df = pd.DataFrame(wavexTrain[:, keep_crystallinity], columns=keep_crystallinity)\n",
    "\n",
    "corr = df.corr()\n",
    "corr.style.background_gradient(cmap=\"coolwarm\")"
   ]
  },
  {
   "cell_type": "markdown",
   "id": "5bea2ddf-74f6-4e80-b8e4-9cc58fa12804",
   "metadata": {},
   "source": [
    "## Train the model again and compute SHAP values"
   ]
  },
  {
   "cell_type": "code",
   "execution_count": null,
   "id": "a2074b13-282f-4f99-b09a-ce16dc794760",
   "metadata": {},
   "outputs": [],
   "source": [
    "model = linear_model.LinearRegression()\n",
    "model.fit(wavexTrain[:, np.array(keep_crystallinity).astype(int)], ypredTrain)\n",
    "\n",
    "important_coeff = model.coef_\n",
    "important_intercept = model.intercept_"
   ]
  },
  {
   "cell_type": "code",
   "execution_count": null,
   "id": "a39050cc-55a7-470f-a0a1-78d783ab52ff",
   "metadata": {},
   "outputs": [],
   "source": [
    "shap_values, labels = SHAPreducer(\n",
    "    wavecoeffsTrain,\n",
    "    interceptTrain,\n",
    "    model.coef_,\n",
    "    keep_crystallinity,\n",
    "    np.concatenate((wavexTrain, wavexTest)),\n",
    "    RNV_q,\n",
    ")\n",
    "\n",
    "ax = shap.summary_plot(shap_values, shap_values.data, feature_names=labels, show=False)\n",
    "plt.savefig(\"crystallinity.jpg\")"
   ]
  },
  {
   "cell_type": "code",
   "execution_count": null,
   "id": "7124e5c2-4022-4657-8383-085f7e5e05cc",
   "metadata": {},
   "outputs": [],
   "source": [
    "keep_crystallinity"
   ]
  },
  {
   "cell_type": "markdown",
   "id": "5b58ce44-ae99-4d65-ae44-16b345311db4",
   "metadata": {},
   "source": [
    "## Create parity plots"
   ]
  },
  {
   "cell_type": "code",
   "execution_count": null,
   "id": "f8e8be3c-5c13-43b3-9be7-bcf0cc23e18f",
   "metadata": {},
   "outputs": [],
   "source": [
    "parityplots(\n",
    "    wavexTrain,\n",
    "    wavexTest,\n",
    "    keep_crystallinity,\n",
    "    model,\n",
    "    ypredTrain,\n",
    "    ypredTest,\n",
    "    yactTrain,\n",
    "    yactTest,\n",
    ")"
   ]
  },
  {
   "cell_type": "code",
   "execution_count": null,
   "id": "f0a2c604-fd07-4258-b0dd-29507c0b7e93",
   "metadata": {},
   "outputs": [],
   "source": [
    "crystallinity_corr = compute_correlation(\n",
    "    important_indices=keep_crystallinity,\n",
    "    property_name=\"crystallinity\",\n",
    "    spectral_data=spectral_data,\n",
    "    split_by_polymer=True,\n",
    ")\n",
    "\n",
    "# Get PE and PP correlation dataframes\n",
    "correlation_df_crys_PE = crystallinity_corr[\"PE\"]\n",
    "correlation_df_crys_PP = crystallinity_corr[\"PP\"]"
   ]
  },
  {
   "cell_type": "markdown",
   "id": "612327c4-5f5d-4d0c-a579-01cb090c1ebf",
   "metadata": {},
   "source": [
    "## Compute Pearson's correlation coefficients for important wavenumbers for crystallinity and plot key spectral regions with high coefficients"
   ]
  },
  {
   "cell_type": "code",
   "execution_count": null,
   "id": "9dd0e250-618b-41f2-b596-fef4fa98d93f",
   "metadata": {},
   "outputs": [],
   "source": [
    "# For PE samples:\n",
    "plot_correlation_scatter(\n",
    "    correlation_df=correlation_df_crys_PE,\n",
    "    wavenumbers=spectral_data[\"wavenumbers\"],\n",
    "    important_indices=keep_crystallinity,\n",
    "    shap_values=shap_values,\n",
    "    labels=labels,\n",
    "    property_name=\"crystallinity\",\n",
    "    polymer_type=\"PE\",\n",
    "    threshold=0.9,\n",
    ")\n",
    "\n",
    "plt.savefig(\"crystallinity_PE_corr.png\", dpi=300)\n",
    "plt.show()\n",
    "\n",
    "# For PP samples:\n",
    "plot_correlation_scatter(\n",
    "    correlation_df=correlation_df_crys_PP,\n",
    "    wavenumbers=spectral_data[\"wavenumbers\"],\n",
    "    important_indices=keep_crystallinity,\n",
    "    shap_values=shap_values,\n",
    "    labels=labels,\n",
    "    property_name=\"crystallinity\",\n",
    "    polymer_type=\"PP\",\n",
    "    threshold=0.9,\n",
    ")\n",
    "\n",
    "plt.savefig(\"crystallinity_PP_corr.png\", dpi=300)\n",
    "plt.show()"
   ]
  }
 ],
 "metadata": {
  "kernelspec": {
   "display_name": "Python 3 (ipykernel)",
   "language": "python",
   "name": "python3"
  },
  "language_info": {
   "codemirror_mode": {
    "name": "ipython",
    "version": 3
   },
   "file_extension": ".py",
   "mimetype": "text/x-python",
   "name": "python",
   "nbconvert_exporter": "python",
   "pygments_lexer": "ipython3",
   "version": "3.12.8"
  }
 },
 "nbformat": 4,
 "nbformat_minor": 5
}
